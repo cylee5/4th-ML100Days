{
 "cells": [
  {
   "cell_type": "markdown",
   "metadata": {},
   "source": [
    "## [作業目標]\n",
    "了解機器學習適合應用的領域與範疇。"
   ]
  },
  {
   "cell_type": "markdown",
   "metadata": {},
   "source": [
    "## [作業重點]\n",
    "透過瞭解機器學習的運作方式，找出非常適用機器學習應用的領域及其原因"
   ]
  },
  {
   "cell_type": "markdown",
   "metadata": {},
   "source": [
    "## 作業\n",
    "請找出一個你認為機器學習可以發光發熱的領域並闡述原因? "
   ]
  },
  {
   "cell_type": "markdown",
   "metadata": {},
   "source": [
    "   ANS: 醫學影像判讀\n",
    "        醫學影像診斷上放射科醫師每日都需大量的閱覽影像(如X光片、電腦斷層、核磁共振、超音波、乳房攝影、正子掃描等等)，並找出問題點，發報\n",
    "        告。這都需要花費大量的精神專注力與判讀經驗。常常也會因為影像數量太多，而遺漏可能發生的病灶，所以可透過機器學習中的監督式學習或是增\n",
    "        強式學習，讓機器人邊學習邊判讀或是明確的先行判別診斷，讓醫生們能更簡單的判讀，以增加更準確與更有時效性，提升醫療品質。\n",
    "        \n",
    "    "
   ]
  }
 ],
 "metadata": {
  "kernelspec": {
   "display_name": "Python 3",
   "language": "python",
   "name": "python3"
  },
  "language_info": {
   "codemirror_mode": {
    "name": "ipython",
    "version": 3
   },
   "file_extension": ".py",
   "mimetype": "text/x-python",
   "name": "python",
   "nbconvert_exporter": "python",
   "pygments_lexer": "ipython3",
   "version": "3.7.4"
  }
 },
 "nbformat": 4,
 "nbformat_minor": 2
}
